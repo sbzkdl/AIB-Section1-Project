{
  "cells": [
    {
      "cell_type": "markdown",
      "metadata": {
        "id": "view-in-github",
        "colab_type": "text"
      },
      "source": [
        "<a href=\"https://colab.research.google.com/github/sbzkdl/AIB-Section1-Project/blob/main/Part1_2.ipynb\" target=\"_parent\"><img src=\"https://colab.research.google.com/assets/colab-badge.svg\" alt=\"Open In Colab\"/></a>"
      ]
    },
    {
      "cell_type": "markdown",
      "id": "3f69a245",
      "metadata": {
        "id": "3f69a245"
      },
      "source": [
        "# 확인하세요!\n",
        "\n",
        "### 제출 전에 모든 코드가 순차적으로 잘 작동하는지 확인하세요. \n",
        "- **커널을 다시 시작**한 다음(메뉴바에서 Kernel$\\rightarrow$Restart 선택) **모든 셀을 실행**해 보세요(메뉴바에서 Cell$\\rightarrow$Run All 선택).\n",
        "\n",
        "### 지정 셀의 지정 영역에서만 코드를 작성했는지 확인하세요.\n",
        "- `YOUR CODE HERE`이 적혀 있는 셀에 대한 코드만 채점에 반영됩니다.\n",
        "- `YOUR CODE HERE` ~ `YOUR CODE ENDS HERE` 사이에 본인의 코드를 작성하세요.\n",
        "- 지정 셀 이외에 본인이 코드 실행 결과를 확인하기 위한 용도로 셀을 추가해도 됩니다.\n",
        "    - **제출 시 지정 셀에서는 정답 이외에 결과 확인을 위한 코드 등은 제거하고 제출해 주세요!**\n",
        "    - **기존 셀을 삭제하지 마세요! 채점에 불이익이 있을 수 있습니다.**\n",
        "\n",
        "### 제출 방법\n",
        "- 시간 내에 문제를 풀고, 본인의 github repo에 push 하세요.\n",
        "    - **디렉토리 구조가 변하면 안 됩니다.** `codestates/ds-sc2xx`와 디렉토리 구조가 동일해야 합니다. 답안 파일의 이름을 변경하지 않았는지, 기존에 없던 폴더가 추가되지 않았는지 등을 확인하세요.\n",
        "    - **코드스테이츠 가입 시 연동한 github 계정을 사용해야 합니다.**\n",
        "    - **branch를 변경하여 작업하지 마세요.**\n",
        "        - `master` branch에의 제출 사항에 대해서만 평가합니다.\n",
        "        - 본인의 github repo `master` branch에 제출이 잘 되어 있는지 확인하세요."
      ]
    },
    {
      "cell_type": "markdown",
      "id": "0270b2a3",
      "metadata": {
        "id": "0270b2a3"
      },
      "source": [
        "---"
      ]
    },
    {
      "cell_type": "markdown",
      "id": "6f4f7cc5",
      "metadata": {
        "deletable": false,
        "editable": false,
        "id": "6f4f7cc5",
        "nbgrader": {
          "cell_type": "markdown",
          "checksum": "5b8da3e1b9baae8ac676b3a0499ac505",
          "grade": false,
          "grade_id": "cell-5b7fa4769535997c",
          "locked": true,
          "schema_version": 3,
          "solution": false,
          "task": false
        }
      },
      "source": [
        "# SC22x\n",
        " \n",
        "### 코비 브라이언트의 슛 성공 여부 예측해보기\n",
        "\n",
        "이번 스프린트 챌린지에서는 故 코비 브라이언트 선수의 NBA 필드 골 시도들이 담긴 데이터셋을 다룹니다 (1996년 11월 3일부터 2016년 4월 13일까지의 정규 시즌과 플레이오프 시즌 기록).\n",
        "\n",
        "여러분은 각 슛의 성공 여부를 슈팅의 대한 정보, 게임에 대한 정보를 통해서 예측해야 합니다. 이것은 상당히 어려운 예측입니다. 해당 데이터셋은 [NBA API]((https://github.com/swar/nba_api) 파이썬 라이브러리를 통해 수집 됐습니다. "
      ]
    },
    {
      "cell_type": "code",
      "execution_count": null,
      "id": "cdad95b2",
      "metadata": {
        "colab": {
          "base_uri": "https://localhost:8080/"
        },
        "deletable": false,
        "editable": false,
        "id": "cdad95b2",
        "nbgrader": {
          "cell_type": "code",
          "checksum": "09ba216ccff59c52f016d5454238a4e7",
          "grade": false,
          "grade_id": "cell-ee764f0e965ac62a",
          "locked": true,
          "schema_version": 3,
          "solution": false,
          "task": false
        },
        "outputId": "f90df61b-840b-487f-e72f-8bf4aa7aaecb"
      },
      "outputs": [
        {
          "name": "stdout",
          "output_type": "stream",
          "text": [
            "Requirement already satisfied: xgboost in c:\\users\\user\\anaconda3\\lib\\site-packages (1.6.2)\n",
            "Requirement already satisfied: numpy in c:\\users\\user\\anaconda3\\lib\\site-packages (from xgboost) (1.21.5)\n",
            "Requirement already satisfied: scipy in c:\\users\\user\\anaconda3\\lib\\site-packages (from xgboost) (1.7.3)\n"
          ]
        }
      ],
      "source": [
        "import sys\n",
        "import warnings\n",
        "\n",
        "!pip3 install xgboost\n",
        "\n",
        "if \"google.colab\" in sys.modules:\n",
        "    ## Colab에서 실행하는 경우 필요한 라이브러리를 미리 설치합니다.\n",
        "    !pip install category_encoders==2.*\n",
        "    !pip install pandas-profiling==2.*\n",
        "\n",
        "warnings.filterwarnings(\"ignore\")"
      ]
    },
    {
      "cell_type": "code",
      "execution_count": null,
      "id": "3a53a31f",
      "metadata": {
        "deletable": false,
        "editable": false,
        "id": "3a53a31f",
        "nbgrader": {
          "cell_type": "code",
          "checksum": "b58ba5b26c7fda6d0c1df2813dc5c31d",
          "grade": false,
          "grade_id": "cell-2602a05446403de0",
          "locked": true,
          "schema_version": 3,
          "solution": false,
          "task": false
        }
      },
      "outputs": [],
      "source": [
        "# 데이터셋을 불러옵니다\n",
        "import pandas as pd\n",
        "\n",
        "url = \"https://ds-lecture-data.s3.ap-northeast-2.amazonaws.com/nba/nba_kobe_bryant.csv\"\n",
        "df = pd.read_csv(url)\n",
        "\n",
        "# 데이터셋이 잘 불러졌는지 확인합니다\n",
        "assert df.shape == (30697, 19)"
      ]
    },
    {
      "cell_type": "code",
      "execution_count": null,
      "id": "f34ba7af",
      "metadata": {
        "colab": {
          "base_uri": "https://localhost:8080/",
          "height": 357
        },
        "deletable": false,
        "editable": false,
        "id": "f34ba7af",
        "nbgrader": {
          "cell_type": "code",
          "checksum": "cd76d011425014356e2893c5aa457a2e",
          "grade": false,
          "grade_id": "cell-5588e0945ba113c3",
          "locked": true,
          "schema_version": 3,
          "solution": false,
          "task": false
        },
        "outputId": "5772eef4-a9f7-4ebe-8794-447316aa2630"
      },
      "outputs": [
        {
          "data": {
            "text/html": [
              "<div>\n",
              "<style scoped>\n",
              "    .dataframe tbody tr th:only-of-type {\n",
              "        vertical-align: middle;\n",
              "    }\n",
              "\n",
              "    .dataframe tbody tr th {\n",
              "        vertical-align: top;\n",
              "    }\n",
              "\n",
              "    .dataframe thead th {\n",
              "        text-align: right;\n",
              "    }\n",
              "</style>\n",
              "<table border=\"1\" class=\"dataframe\">\n",
              "  <thead>\n",
              "    <tr style=\"text-align: right;\">\n",
              "      <th></th>\n",
              "      <th>game_id</th>\n",
              "      <th>game_event_id</th>\n",
              "      <th>player_name</th>\n",
              "      <th>period</th>\n",
              "      <th>minutes_remaining</th>\n",
              "      <th>seconds_remaining</th>\n",
              "      <th>action_type</th>\n",
              "      <th>shot_type</th>\n",
              "      <th>shot_zone_basic</th>\n",
              "      <th>shot_zone_area</th>\n",
              "      <th>shot_zone_range</th>\n",
              "      <th>shot_distance</th>\n",
              "      <th>loc_x</th>\n",
              "      <th>loc_y</th>\n",
              "      <th>shot_made_flag</th>\n",
              "      <th>game_date</th>\n",
              "      <th>htm</th>\n",
              "      <th>vtm</th>\n",
              "      <th>season_type</th>\n",
              "    </tr>\n",
              "  </thead>\n",
              "  <tbody>\n",
              "    <tr>\n",
              "      <th>0</th>\n",
              "      <td>29600027</td>\n",
              "      <td>102</td>\n",
              "      <td>Kobe Bryant</td>\n",
              "      <td>1</td>\n",
              "      <td>0</td>\n",
              "      <td>42</td>\n",
              "      <td>Jump Shot</td>\n",
              "      <td>2PT Field Goal</td>\n",
              "      <td>Mid-Range</td>\n",
              "      <td>Left Side Center(LC)</td>\n",
              "      <td>16-24 ft.</td>\n",
              "      <td>18</td>\n",
              "      <td>-140</td>\n",
              "      <td>116</td>\n",
              "      <td>0</td>\n",
              "      <td>1996-11-03</td>\n",
              "      <td>LAL</td>\n",
              "      <td>MIN</td>\n",
              "      <td>Regular Season</td>\n",
              "    </tr>\n",
              "    <tr>\n",
              "      <th>1</th>\n",
              "      <td>29600031</td>\n",
              "      <td>127</td>\n",
              "      <td>Kobe Bryant</td>\n",
              "      <td>2</td>\n",
              "      <td>10</td>\n",
              "      <td>8</td>\n",
              "      <td>Jump Shot</td>\n",
              "      <td>2PT Field Goal</td>\n",
              "      <td>Mid-Range</td>\n",
              "      <td>Left Side Center(LC)</td>\n",
              "      <td>16-24 ft.</td>\n",
              "      <td>16</td>\n",
              "      <td>-131</td>\n",
              "      <td>97</td>\n",
              "      <td>0</td>\n",
              "      <td>1996-11-05</td>\n",
              "      <td>NYK</td>\n",
              "      <td>LAL</td>\n",
              "      <td>Regular Season</td>\n",
              "    </tr>\n",
              "    <tr>\n",
              "      <th>2</th>\n",
              "      <td>29600044</td>\n",
              "      <td>124</td>\n",
              "      <td>Kobe Bryant</td>\n",
              "      <td>2</td>\n",
              "      <td>8</td>\n",
              "      <td>37</td>\n",
              "      <td>Jump Shot</td>\n",
              "      <td>3PT Field Goal</td>\n",
              "      <td>Mid-Range</td>\n",
              "      <td>Left Side Center(LC)</td>\n",
              "      <td>16-24 ft.</td>\n",
              "      <td>23</td>\n",
              "      <td>-142</td>\n",
              "      <td>181</td>\n",
              "      <td>1</td>\n",
              "      <td>1996-11-06</td>\n",
              "      <td>CHH</td>\n",
              "      <td>LAL</td>\n",
              "      <td>Regular Season</td>\n",
              "    </tr>\n",
              "    <tr>\n",
              "      <th>3</th>\n",
              "      <td>29600044</td>\n",
              "      <td>144</td>\n",
              "      <td>Kobe Bryant</td>\n",
              "      <td>2</td>\n",
              "      <td>6</td>\n",
              "      <td>34</td>\n",
              "      <td>Jump Shot</td>\n",
              "      <td>3PT Field Goal</td>\n",
              "      <td>Restricted Area</td>\n",
              "      <td>Center(C)</td>\n",
              "      <td>Less Than 8 ft.</td>\n",
              "      <td>0</td>\n",
              "      <td>0</td>\n",
              "      <td>0</td>\n",
              "      <td>0</td>\n",
              "      <td>1996-11-06</td>\n",
              "      <td>CHH</td>\n",
              "      <td>LAL</td>\n",
              "      <td>Regular Season</td>\n",
              "    </tr>\n",
              "    <tr>\n",
              "      <th>4</th>\n",
              "      <td>29600044</td>\n",
              "      <td>151</td>\n",
              "      <td>Kobe Bryant</td>\n",
              "      <td>2</td>\n",
              "      <td>5</td>\n",
              "      <td>27</td>\n",
              "      <td>Jump Shot</td>\n",
              "      <td>2PT Field Goal</td>\n",
              "      <td>In The Paint (Non-RA)</td>\n",
              "      <td>Center(C)</td>\n",
              "      <td>8-16 ft.</td>\n",
              "      <td>13</td>\n",
              "      <td>-10</td>\n",
              "      <td>138</td>\n",
              "      <td>1</td>\n",
              "      <td>1996-11-06</td>\n",
              "      <td>CHH</td>\n",
              "      <td>LAL</td>\n",
              "      <td>Regular Season</td>\n",
              "    </tr>\n",
              "  </tbody>\n",
              "</table>\n",
              "</div>"
            ],
            "text/plain": [
              "    game_id  game_event_id  player_name  period  minutes_remaining  \\\n",
              "0  29600027            102  Kobe Bryant       1                  0   \n",
              "1  29600031            127  Kobe Bryant       2                 10   \n",
              "2  29600044            124  Kobe Bryant       2                  8   \n",
              "3  29600044            144  Kobe Bryant       2                  6   \n",
              "4  29600044            151  Kobe Bryant       2                  5   \n",
              "\n",
              "   seconds_remaining action_type       shot_type        shot_zone_basic  \\\n",
              "0                 42   Jump Shot  2PT Field Goal              Mid-Range   \n",
              "1                  8   Jump Shot  2PT Field Goal              Mid-Range   \n",
              "2                 37   Jump Shot  3PT Field Goal              Mid-Range   \n",
              "3                 34   Jump Shot  3PT Field Goal        Restricted Area   \n",
              "4                 27   Jump Shot  2PT Field Goal  In The Paint (Non-RA)   \n",
              "\n",
              "         shot_zone_area  shot_zone_range  shot_distance  loc_x  loc_y  \\\n",
              "0  Left Side Center(LC)        16-24 ft.             18   -140    116   \n",
              "1  Left Side Center(LC)        16-24 ft.             16   -131     97   \n",
              "2  Left Side Center(LC)        16-24 ft.             23   -142    181   \n",
              "3             Center(C)  Less Than 8 ft.              0      0      0   \n",
              "4             Center(C)         8-16 ft.             13    -10    138   \n",
              "\n",
              "   shot_made_flag   game_date  htm  vtm     season_type  \n",
              "0               0  1996-11-03  LAL  MIN  Regular Season  \n",
              "1               0  1996-11-05  NYK  LAL  Regular Season  \n",
              "2               1  1996-11-06  CHH  LAL  Regular Season  \n",
              "3               0  1996-11-06  CHH  LAL  Regular Season  \n",
              "4               1  1996-11-06  CHH  LAL  Regular Season  "
            ]
          },
          "execution_count": 3,
          "metadata": {},
          "output_type": "execute_result"
        }
      ],
      "source": [
        "df.head()"
      ]
    },
    {
      "cell_type": "code",
      "execution_count": null,
      "id": "bd4ef052",
      "metadata": {
        "colab": {
          "base_uri": "https://localhost:8080/"
        },
        "deletable": false,
        "editable": false,
        "id": "bd4ef052",
        "nbgrader": {
          "cell_type": "code",
          "checksum": "2ec9ef1e3e41545d309a13f8ad9e96ac",
          "grade": false,
          "grade_id": "cell-2b50543307a8bc30",
          "locked": true,
          "schema_version": 3,
          "solution": false,
          "task": false
        },
        "outputId": "a9a40acf-839e-472d-a1a8-8ab2ecf8b2cb"
      },
      "outputs": [
        {
          "data": {
            "text/plain": [
              "game_id              0\n",
              "game_event_id        0\n",
              "player_name          0\n",
              "period               0\n",
              "minutes_remaining    0\n",
              "seconds_remaining    0\n",
              "action_type          0\n",
              "shot_type            0\n",
              "shot_zone_basic      0\n",
              "shot_zone_area       0\n",
              "shot_zone_range      0\n",
              "shot_distance        0\n",
              "loc_x                0\n",
              "loc_y                0\n",
              "shot_made_flag       0\n",
              "game_date            0\n",
              "htm                  0\n",
              "vtm                  0\n",
              "season_type          0\n",
              "dtype: int64"
            ]
          },
          "execution_count": 4,
          "metadata": {},
          "output_type": "execute_result"
        }
      ],
      "source": [
        "# 살펴보기\n",
        "df.isnull().sum()"
      ]
    },
    {
      "cell_type": "markdown",
      "id": "6b9c8083",
      "metadata": {
        "deletable": false,
        "editable": false,
        "id": "6b9c8083",
        "nbgrader": {
          "cell_type": "markdown",
          "checksum": "96dab9d3b391906d6e6e33edcf985701",
          "grade": false,
          "grade_id": "cell-f75742bcbc000238",
          "locked": true,
          "schema_version": 3,
          "solution": false,
          "task": false
        }
      },
      "source": [
        "# Part 1 - Data Preprocessing"
      ]
    },
    {
      "cell_type": "markdown",
      "id": "317a659c",
      "metadata": {
        "deletable": false,
        "editable": false,
        "id": "317a659c",
        "nbgrader": {
          "cell_type": "markdown",
          "checksum": "5edd97d97d09e779c6c3d6f845191211",
          "grade": false,
          "grade_id": "cell-78b3370c9bae8d7c",
          "locked": true,
          "schema_version": 3,
          "solution": false,
          "task": false
        }
      },
      "source": [
        "## 1.1 분류를 위한 베이스라인 정확도를 계산하는 `calculate_baseline_score` 함수를 작성하세요.\n",
        "- 예측해야 하는 target은 `shot_made_flag` 입니다. \n",
        "- 전체 데이터를 써서 baseline **accuracy score**를 계산하세요.\n",
        "- 최빈 클래스를 사용하는 baseline을 가정하세요."
      ]
    },
    {
      "cell_type": "code",
      "execution_count": null,
      "id": "dIQmsBl6HPZc",
      "metadata": {
        "id": "dIQmsBl6HPZc"
      },
      "outputs": [],
      "source": [
        "from sklearn.metrics import accuracy_score"
      ]
    },
    {
      "cell_type": "code",
      "execution_count": null,
      "id": "9fd4bab4",
      "metadata": {
        "deletable": false,
        "id": "9fd4bab4",
        "nbgrader": {
          "cell_type": "code",
          "checksum": "d86cec0b776864abff084231a709fa28",
          "grade": false,
          "grade_id": "1-1",
          "locked": false,
          "schema_version": 3,
          "solution": true,
          "task": false
        }
      },
      "outputs": [],
      "source": [
        "def calculate_baseline_score(df):\n",
        "    \n",
        "    # YOUR CODE HERE\n",
        "    target = 'shot_made_flag'\n",
        "    y = df[target]\n",
        "\n",
        "    base = y.mode()[0]\n",
        "    baseline = len(y) * [base]\n",
        "    score = accuracy_score(y, baseline)\n",
        "    # YOUR CODE ENDS HERE\n",
        "\n",
        "    return score"
      ]
    },
    {
      "cell_type": "code",
      "execution_count": null,
      "id": "e3093d3d",
      "metadata": {
        "deletable": false,
        "editable": false,
        "id": "e3093d3d",
        "nbgrader": {
          "cell_type": "code",
          "checksum": "715e83962f65cd40c3a019cd0a631c59",
          "grade": false,
          "grade_id": "cell-58d5cd85e0805e46",
          "locked": true,
          "schema_version": 3,
          "solution": false,
          "task": false
        }
      },
      "outputs": [],
      "source": [
        "baseline_accuracy_score = calculate_baseline_score(df)"
      ]
    },
    {
      "cell_type": "code",
      "execution_count": null,
      "id": "ac7b02b0",
      "metadata": {
        "colab": {
          "base_uri": "https://localhost:8080/"
        },
        "deletable": false,
        "editable": false,
        "id": "ac7b02b0",
        "nbgrader": {
          "cell_type": "code",
          "checksum": "7f28afc1276702e79b17eb9839114403",
          "grade": true,
          "grade_id": "1-1_test",
          "locked": true,
          "points": 1,
          "schema_version": 3,
          "solution": false,
          "task": false
        },
        "outputId": "c0364196-35af-4850-c226-e0175a572da5"
      },
      "outputs": [
        {
          "name": "stdout",
          "output_type": "stream",
          "text": [
            "baseline accuracy score: 0.5526924455158485\n"
          ]
        }
      ],
      "source": [
        "print(\"baseline accuracy score:\", baseline_accuracy_score)"
      ]
    },
    {
      "cell_type": "markdown",
      "id": "4b7abb2a",
      "metadata": {
        "deletable": false,
        "editable": false,
        "id": "4b7abb2a",
        "nbgrader": {
          "cell_type": "markdown",
          "checksum": "ebe6acbc6f4a27a5e1f21a3a57708b16",
          "grade": false,
          "grade_id": "cell-379b9354bac4ee0b",
          "locked": true,
          "schema_version": 3,
          "solution": false,
          "task": false
        }
      },
      "source": [
        "## 1.2 데이터셋을 아래의 기준을 사용해서 train/test 셋으로 나누는 `split_data` 함수를 작성하세요.\n",
        "\n",
        "- `test set`: **2014-15** ~ **2015-16** 시즌\n",
        "- NBA 시즌은 **10월**에 시작해서 **6월**에 종료합니다. "
      ]
    },
    {
      "cell_type": "code",
      "execution_count": null,
      "id": "iP-wEY1KYrtX",
      "metadata": {
        "id": "iP-wEY1KYrtX"
      },
      "outputs": [],
      "source": [
        "from sklearn.model_selection import train_test_split"
      ]
    },
    {
      "cell_type": "code",
      "execution_count": null,
      "id": "0db6ee42",
      "metadata": {
        "deletable": false,
        "id": "0db6ee42",
        "nbgrader": {
          "cell_type": "code",
          "checksum": "0492b692729613e5bfd0caa42832f343",
          "grade": false,
          "grade_id": "1-2",
          "locked": false,
          "schema_version": 3,
          "solution": true,
          "task": false
        }
      },
      "outputs": [],
      "source": [
        "def split_data(df):\n",
        "    train = None\n",
        "    test = None\n",
        "\n",
        "    # YOUR CODE HERE\n",
        "    searchfor = ['2014', '2015', '2016']\n",
        "    test = df[df['game_date'].str.contains('|'.join(searchfor))]\n",
        "    train = df.drop(test.index)\n",
        "    # YOUR CODE ENDS HERE\n",
        "\n",
        "    return train, test"
      ]
    },
    {
      "cell_type": "code",
      "execution_count": null,
      "id": "e90106c9",
      "metadata": {
        "deletable": false,
        "editable": false,
        "id": "e90106c9",
        "nbgrader": {
          "cell_type": "code",
          "checksum": "fd97ea82ae2456a4aee58ddcd54b2779",
          "grade": false,
          "grade_id": "cell-26aeeade23bbb87e",
          "locked": true,
          "schema_version": 3,
          "solution": false,
          "task": false
        }
      },
      "outputs": [],
      "source": [
        "train, test = split_data(df.copy())"
      ]
    },
    {
      "cell_type": "code",
      "execution_count": null,
      "id": "7056dce3",
      "metadata": {
        "colab": {
          "base_uri": "https://localhost:8080/",
          "height": 661
        },
        "deletable": false,
        "editable": false,
        "id": "7056dce3",
        "nbgrader": {
          "cell_type": "code",
          "checksum": "131d230d7b9e6a805356c49ce9f9be3f",
          "grade": true,
          "grade_id": "1-2_test",
          "locked": true,
          "points": 1,
          "schema_version": 3,
          "solution": false,
          "task": false
        },
        "outputId": "a2f58f8b-dd3c-4aac-d080-a301a818c1ff"
      },
      "outputs": [
        {
          "data": {
            "text/html": [
              "<div>\n",
              "<style scoped>\n",
              "    .dataframe tbody tr th:only-of-type {\n",
              "        vertical-align: middle;\n",
              "    }\n",
              "\n",
              "    .dataframe tbody tr th {\n",
              "        vertical-align: top;\n",
              "    }\n",
              "\n",
              "    .dataframe thead th {\n",
              "        text-align: right;\n",
              "    }\n",
              "</style>\n",
              "<table border=\"1\" class=\"dataframe\">\n",
              "  <thead>\n",
              "    <tr style=\"text-align: right;\">\n",
              "      <th></th>\n",
              "      <th>game_id</th>\n",
              "      <th>game_event_id</th>\n",
              "      <th>player_name</th>\n",
              "      <th>period</th>\n",
              "      <th>minutes_remaining</th>\n",
              "      <th>seconds_remaining</th>\n",
              "      <th>action_type</th>\n",
              "      <th>shot_type</th>\n",
              "      <th>shot_zone_basic</th>\n",
              "      <th>shot_zone_area</th>\n",
              "      <th>shot_zone_range</th>\n",
              "      <th>shot_distance</th>\n",
              "      <th>loc_x</th>\n",
              "      <th>loc_y</th>\n",
              "      <th>shot_made_flag</th>\n",
              "      <th>game_date</th>\n",
              "      <th>htm</th>\n",
              "      <th>vtm</th>\n",
              "      <th>season_type</th>\n",
              "    </tr>\n",
              "  </thead>\n",
              "  <tbody>\n",
              "    <tr>\n",
              "      <th>0</th>\n",
              "      <td>29600027</td>\n",
              "      <td>102</td>\n",
              "      <td>Kobe Bryant</td>\n",
              "      <td>1</td>\n",
              "      <td>0</td>\n",
              "      <td>42</td>\n",
              "      <td>Jump Shot</td>\n",
              "      <td>2PT Field Goal</td>\n",
              "      <td>Mid-Range</td>\n",
              "      <td>Left Side Center(LC)</td>\n",
              "      <td>16-24 ft.</td>\n",
              "      <td>18</td>\n",
              "      <td>-140</td>\n",
              "      <td>116</td>\n",
              "      <td>0</td>\n",
              "      <td>1996-11-03</td>\n",
              "      <td>LAL</td>\n",
              "      <td>MIN</td>\n",
              "      <td>Regular Season</td>\n",
              "    </tr>\n",
              "    <tr>\n",
              "      <th>1</th>\n",
              "      <td>29600031</td>\n",
              "      <td>127</td>\n",
              "      <td>Kobe Bryant</td>\n",
              "      <td>2</td>\n",
              "      <td>10</td>\n",
              "      <td>8</td>\n",
              "      <td>Jump Shot</td>\n",
              "      <td>2PT Field Goal</td>\n",
              "      <td>Mid-Range</td>\n",
              "      <td>Left Side Center(LC)</td>\n",
              "      <td>16-24 ft.</td>\n",
              "      <td>16</td>\n",
              "      <td>-131</td>\n",
              "      <td>97</td>\n",
              "      <td>0</td>\n",
              "      <td>1996-11-05</td>\n",
              "      <td>NYK</td>\n",
              "      <td>LAL</td>\n",
              "      <td>Regular Season</td>\n",
              "    </tr>\n",
              "    <tr>\n",
              "      <th>2</th>\n",
              "      <td>29600044</td>\n",
              "      <td>124</td>\n",
              "      <td>Kobe Bryant</td>\n",
              "      <td>2</td>\n",
              "      <td>8</td>\n",
              "      <td>37</td>\n",
              "      <td>Jump Shot</td>\n",
              "      <td>3PT Field Goal</td>\n",
              "      <td>Mid-Range</td>\n",
              "      <td>Left Side Center(LC)</td>\n",
              "      <td>16-24 ft.</td>\n",
              "      <td>23</td>\n",
              "      <td>-142</td>\n",
              "      <td>181</td>\n",
              "      <td>1</td>\n",
              "      <td>1996-11-06</td>\n",
              "      <td>CHH</td>\n",
              "      <td>LAL</td>\n",
              "      <td>Regular Season</td>\n",
              "    </tr>\n",
              "    <tr>\n",
              "      <th>3</th>\n",
              "      <td>29600044</td>\n",
              "      <td>144</td>\n",
              "      <td>Kobe Bryant</td>\n",
              "      <td>2</td>\n",
              "      <td>6</td>\n",
              "      <td>34</td>\n",
              "      <td>Jump Shot</td>\n",
              "      <td>3PT Field Goal</td>\n",
              "      <td>Restricted Area</td>\n",
              "      <td>Center(C)</td>\n",
              "      <td>Less Than 8 ft.</td>\n",
              "      <td>0</td>\n",
              "      <td>0</td>\n",
              "      <td>0</td>\n",
              "      <td>0</td>\n",
              "      <td>1996-11-06</td>\n",
              "      <td>CHH</td>\n",
              "      <td>LAL</td>\n",
              "      <td>Regular Season</td>\n",
              "    </tr>\n",
              "    <tr>\n",
              "      <th>4</th>\n",
              "      <td>29600044</td>\n",
              "      <td>151</td>\n",
              "      <td>Kobe Bryant</td>\n",
              "      <td>2</td>\n",
              "      <td>5</td>\n",
              "      <td>27</td>\n",
              "      <td>Jump Shot</td>\n",
              "      <td>2PT Field Goal</td>\n",
              "      <td>In The Paint (Non-RA)</td>\n",
              "      <td>Center(C)</td>\n",
              "      <td>8-16 ft.</td>\n",
              "      <td>13</td>\n",
              "      <td>-10</td>\n",
              "      <td>138</td>\n",
              "      <td>1</td>\n",
              "      <td>1996-11-06</td>\n",
              "      <td>CHH</td>\n",
              "      <td>LAL</td>\n",
              "      <td>Regular Season</td>\n",
              "    </tr>\n",
              "    <tr>\n",
              "      <th>...</th>\n",
              "      <td>...</td>\n",
              "      <td>...</td>\n",
              "      <td>...</td>\n",
              "      <td>...</td>\n",
              "      <td>...</td>\n",
              "      <td>...</td>\n",
              "      <td>...</td>\n",
              "      <td>...</td>\n",
              "      <td>...</td>\n",
              "      <td>...</td>\n",
              "      <td>...</td>\n",
              "      <td>...</td>\n",
              "      <td>...</td>\n",
              "      <td>...</td>\n",
              "      <td>...</td>\n",
              "      <td>...</td>\n",
              "      <td>...</td>\n",
              "      <td>...</td>\n",
              "      <td>...</td>\n",
              "    </tr>\n",
              "    <tr>\n",
              "      <th>28866</th>\n",
              "      <td>21300366</td>\n",
              "      <td>34</td>\n",
              "      <td>Kobe Bryant</td>\n",
              "      <td>1</td>\n",
              "      <td>7</td>\n",
              "      <td>45</td>\n",
              "      <td>Layup Shot</td>\n",
              "      <td>2PT Field Goal</td>\n",
              "      <td>Restricted Area</td>\n",
              "      <td>Center(C)</td>\n",
              "      <td>Less Than 8 ft.</td>\n",
              "      <td>0</td>\n",
              "      <td>2</td>\n",
              "      <td>0</td>\n",
              "      <td>1</td>\n",
              "      <td>2013-12-17</td>\n",
              "      <td>MEM</td>\n",
              "      <td>LAL</td>\n",
              "      <td>Regular Season</td>\n",
              "    </tr>\n",
              "    <tr>\n",
              "      <th>28867</th>\n",
              "      <td>21300366</td>\n",
              "      <td>16</td>\n",
              "      <td>Kobe Bryant</td>\n",
              "      <td>1</td>\n",
              "      <td>10</td>\n",
              "      <td>9</td>\n",
              "      <td>Turnaround Fadeaway shot</td>\n",
              "      <td>2PT Field Goal</td>\n",
              "      <td>Mid-Range</td>\n",
              "      <td>Right Side(R)</td>\n",
              "      <td>8-16 ft.</td>\n",
              "      <td>11</td>\n",
              "      <td>106</td>\n",
              "      <td>50</td>\n",
              "      <td>1</td>\n",
              "      <td>2013-12-17</td>\n",
              "      <td>MEM</td>\n",
              "      <td>LAL</td>\n",
              "      <td>Regular Season</td>\n",
              "    </tr>\n",
              "    <tr>\n",
              "      <th>28868</th>\n",
              "      <td>21300366</td>\n",
              "      <td>5</td>\n",
              "      <td>Kobe Bryant</td>\n",
              "      <td>1</td>\n",
              "      <td>11</td>\n",
              "      <td>13</td>\n",
              "      <td>Layup Shot</td>\n",
              "      <td>2PT Field Goal</td>\n",
              "      <td>Restricted Area</td>\n",
              "      <td>Center(C)</td>\n",
              "      <td>Less Than 8 ft.</td>\n",
              "      <td>0</td>\n",
              "      <td>0</td>\n",
              "      <td>1</td>\n",
              "      <td>0</td>\n",
              "      <td>2013-12-17</td>\n",
              "      <td>MEM</td>\n",
              "      <td>LAL</td>\n",
              "      <td>Regular Season</td>\n",
              "    </tr>\n",
              "    <tr>\n",
              "      <th>28869</th>\n",
              "      <td>21300366</td>\n",
              "      <td>2</td>\n",
              "      <td>Kobe Bryant</td>\n",
              "      <td>1</td>\n",
              "      <td>11</td>\n",
              "      <td>41</td>\n",
              "      <td>Jump Shot</td>\n",
              "      <td>2PT Field Goal</td>\n",
              "      <td>Mid-Range</td>\n",
              "      <td>Left Side Center(LC)</td>\n",
              "      <td>16-24 ft.</td>\n",
              "      <td>22</td>\n",
              "      <td>-130</td>\n",
              "      <td>183</td>\n",
              "      <td>0</td>\n",
              "      <td>2013-12-17</td>\n",
              "      <td>MEM</td>\n",
              "      <td>LAL</td>\n",
              "      <td>Regular Season</td>\n",
              "    </tr>\n",
              "    <tr>\n",
              "      <th>28870</th>\n",
              "      <td>21300366</td>\n",
              "      <td>73</td>\n",
              "      <td>Kobe Bryant</td>\n",
              "      <td>1</td>\n",
              "      <td>4</td>\n",
              "      <td>34</td>\n",
              "      <td>Layup Shot</td>\n",
              "      <td>2PT Field Goal</td>\n",
              "      <td>Restricted Area</td>\n",
              "      <td>Center(C)</td>\n",
              "      <td>Less Than 8 ft.</td>\n",
              "      <td>0</td>\n",
              "      <td>0</td>\n",
              "      <td>-3</td>\n",
              "      <td>0</td>\n",
              "      <td>2013-12-17</td>\n",
              "      <td>MEM</td>\n",
              "      <td>LAL</td>\n",
              "      <td>Regular Season</td>\n",
              "    </tr>\n",
              "  </tbody>\n",
              "</table>\n",
              "<p>28871 rows × 19 columns</p>\n",
              "</div>"
            ],
            "text/plain": [
              "        game_id  game_event_id  player_name  period  minutes_remaining  \\\n",
              "0      29600027            102  Kobe Bryant       1                  0   \n",
              "1      29600031            127  Kobe Bryant       2                 10   \n",
              "2      29600044            124  Kobe Bryant       2                  8   \n",
              "3      29600044            144  Kobe Bryant       2                  6   \n",
              "4      29600044            151  Kobe Bryant       2                  5   \n",
              "...         ...            ...          ...     ...                ...   \n",
              "28866  21300366             34  Kobe Bryant       1                  7   \n",
              "28867  21300366             16  Kobe Bryant       1                 10   \n",
              "28868  21300366              5  Kobe Bryant       1                 11   \n",
              "28869  21300366              2  Kobe Bryant       1                 11   \n",
              "28870  21300366             73  Kobe Bryant       1                  4   \n",
              "\n",
              "       seconds_remaining               action_type       shot_type  \\\n",
              "0                     42                 Jump Shot  2PT Field Goal   \n",
              "1                      8                 Jump Shot  2PT Field Goal   \n",
              "2                     37                 Jump Shot  3PT Field Goal   \n",
              "3                     34                 Jump Shot  3PT Field Goal   \n",
              "4                     27                 Jump Shot  2PT Field Goal   \n",
              "...                  ...                       ...             ...   \n",
              "28866                 45                Layup Shot  2PT Field Goal   \n",
              "28867                  9  Turnaround Fadeaway shot  2PT Field Goal   \n",
              "28868                 13                Layup Shot  2PT Field Goal   \n",
              "28869                 41                 Jump Shot  2PT Field Goal   \n",
              "28870                 34                Layup Shot  2PT Field Goal   \n",
              "\n",
              "             shot_zone_basic        shot_zone_area  shot_zone_range  \\\n",
              "0                  Mid-Range  Left Side Center(LC)        16-24 ft.   \n",
              "1                  Mid-Range  Left Side Center(LC)        16-24 ft.   \n",
              "2                  Mid-Range  Left Side Center(LC)        16-24 ft.   \n",
              "3            Restricted Area             Center(C)  Less Than 8 ft.   \n",
              "4      In The Paint (Non-RA)             Center(C)         8-16 ft.   \n",
              "...                      ...                   ...              ...   \n",
              "28866        Restricted Area             Center(C)  Less Than 8 ft.   \n",
              "28867              Mid-Range         Right Side(R)         8-16 ft.   \n",
              "28868        Restricted Area             Center(C)  Less Than 8 ft.   \n",
              "28869              Mid-Range  Left Side Center(LC)        16-24 ft.   \n",
              "28870        Restricted Area             Center(C)  Less Than 8 ft.   \n",
              "\n",
              "       shot_distance  loc_x  loc_y  shot_made_flag   game_date  htm  vtm  \\\n",
              "0                 18   -140    116               0  1996-11-03  LAL  MIN   \n",
              "1                 16   -131     97               0  1996-11-05  NYK  LAL   \n",
              "2                 23   -142    181               1  1996-11-06  CHH  LAL   \n",
              "3                  0      0      0               0  1996-11-06  CHH  LAL   \n",
              "4                 13    -10    138               1  1996-11-06  CHH  LAL   \n",
              "...              ...    ...    ...             ...         ...  ...  ...   \n",
              "28866              0      2      0               1  2013-12-17  MEM  LAL   \n",
              "28867             11    106     50               1  2013-12-17  MEM  LAL   \n",
              "28868              0      0      1               0  2013-12-17  MEM  LAL   \n",
              "28869             22   -130    183               0  2013-12-17  MEM  LAL   \n",
              "28870              0      0     -3               0  2013-12-17  MEM  LAL   \n",
              "\n",
              "          season_type  \n",
              "0      Regular Season  \n",
              "1      Regular Season  \n",
              "2      Regular Season  \n",
              "3      Regular Season  \n",
              "4      Regular Season  \n",
              "...               ...  \n",
              "28866  Regular Season  \n",
              "28867  Regular Season  \n",
              "28868  Regular Season  \n",
              "28869  Regular Season  \n",
              "28870  Regular Season  \n",
              "\n",
              "[28871 rows x 19 columns]"
            ]
          },
          "execution_count": 12,
          "metadata": {},
          "output_type": "execute_result"
        }
      ],
      "source": [
        "train"
      ]
    },
    {
      "cell_type": "markdown",
      "id": "90c22148",
      "metadata": {
        "deletable": false,
        "editable": false,
        "id": "90c22148",
        "nbgrader": {
          "cell_type": "markdown",
          "checksum": "387056a7a60790c326ae8ef4dc007f39",
          "grade": false,
          "grade_id": "cell-061f9cf27e568eae",
          "locked": true,
          "schema_version": 3,
          "solution": false,
          "task": false
        }
      },
      "source": [
        "## 1.3 새로운 feature를 만드는 `feature_engineering` 함수를 작성하세요.\n",
        "\n",
        "- 새로운 이름을 갖는 최소 2개 이상의 새로운 feature를 만드세요. 아래의 리스트를 사용하셔도 되고 스스로의 아이디어로 만들어 주셔도 괜찮습니다.\n",
        "    - **Homecourt Advantage**: 홈 팀(`htm`)이 Los Angeles Lakers (`LAL`)인지 여부\n",
        "    - **Opponent**: LA Lakers를 상대하는 팀을 나타내는 feature\n",
        "    - **Seconds remaining in the period**: 피리어드에 남은 총 시간 (분과 초를 합칩니다)\n",
        "    - **Seconds remaining in the game**: 게임에 남은 총 시간 (피리어드와 초를 합칩니다). 농구에서 게임은 총 4개의 피리어드로 이루어져 있습니다 (각 12분)\n",
        "    - **Made previous shot**: 코비 브라이언트의 예전 슛이 성공했는지 여부\n",
        "- 학습에 사용하지 않는 특성은 drop하세요.\n",
        "    "
      ]
    },
    {
      "cell_type": "code",
      "execution_count": null,
      "id": "a85431a9",
      "metadata": {
        "deletable": false,
        "id": "a85431a9",
        "nbgrader": {
          "cell_type": "code",
          "checksum": "cf3c3be617fbfaa735f3ebbd6e8bac4f",
          "grade": false,
          "grade_id": "1-3",
          "locked": false,
          "schema_version": 3,
          "solution": true,
          "task": false
        }
      },
      "outputs": [],
      "source": [
        "def feature_engineering(df):\n",
        "    df_tmp = df.copy()\n",
        "\n",
        "    # YOUR CODE HERE\n",
        "\n",
        "    # 새로운 특성 생성\n",
        "#     df_tmp['homecourt_advantage'] = df_tmp['htm'].str.match(pat='LAL')\n",
        "#     df_tmp['homecourt_advantage'] = df_tmp['homecourt_advantage'].replace([True, False], [1, 0], regex=True)\n",
        "\n",
        "#     df_tmp['opponent'] = 'NaN'\n",
        "#     df_tmp['opponent'].loc[(df_tmp['homecourt_advantage']==1)] = df_tmp['vtm']\n",
        "#     df_tmp['opponent'].loc[(df_tmp['homecourt_advantage']==0)] = df_tmp['htm']\n",
        "\n",
        "    # if df_tmp['opponent'].loc[(df_tmp['homecourt_advantage']==1)] :\n",
        "    #   df_tmp['opponent'] = df_tmp['vtm']\n",
        "    # else :\n",
        "    #   df_tmp['opponent'] = df_tmp['htm']\n",
        "\n",
        "    df_tmp['seconds_remaining_in_the_period'] = (df_tmp.minutes_remaining * 60) + df_tmp.seconds_remaining\n",
        "\n",
        "    df_tmp['seconds_remaining_all'] = ((4 - df_tmp.period) * (12*60)) + df_tmp['seconds_remaining_in_the_period']\n",
        "\n",
        "    # 사용하지 않는 특성 drop\n",
        "    dels = [col for col in df_tmp.columns if (\"name\" in col)] # or \"game\" in col or 'tm' in col)]\n",
        "    df_tmp.drop(columns=dels, inplace=True)\n",
        "\n",
        "    # YOUR CODE ENDS HERE\n",
        "\n",
        "    return df_tmp"
      ]
    },
    {
      "cell_type": "code",
      "execution_count": null,
      "id": "e943da7a",
      "metadata": {
        "deletable": false,
        "editable": false,
        "id": "e943da7a",
        "nbgrader": {
          "cell_type": "code",
          "checksum": "bf8f41ed0107062288cff199a8c111a3",
          "grade": false,
          "grade_id": "cell-15e97fab22fdd400",
          "locked": true,
          "schema_version": 3,
          "solution": false,
          "task": false
        }
      },
      "outputs": [],
      "source": [
        "train_processed = feature_engineering(train)\n",
        "test_processed = feature_engineering(test)"
      ]
    },
    {
      "cell_type": "code",
      "execution_count": null,
      "id": "20ec9b5d",
      "metadata": {
        "colab": {
          "base_uri": "https://localhost:8080/",
          "height": 357
        },
        "deletable": false,
        "editable": false,
        "id": "20ec9b5d",
        "nbgrader": {
          "cell_type": "code",
          "checksum": "14be208f54414851c5aaab9bcfabd8d2",
          "grade": true,
          "grade_id": "1-3_test",
          "locked": true,
          "points": 1,
          "schema_version": 3,
          "solution": false,
          "task": false
        },
        "outputId": "959ad465-dfa0-43c5-bffc-3be5ecf7b10a"
      },
      "outputs": [
        {
          "data": {
            "text/html": [
              "<div>\n",
              "<style scoped>\n",
              "    .dataframe tbody tr th:only-of-type {\n",
              "        vertical-align: middle;\n",
              "    }\n",
              "\n",
              "    .dataframe tbody tr th {\n",
              "        vertical-align: top;\n",
              "    }\n",
              "\n",
              "    .dataframe thead th {\n",
              "        text-align: right;\n",
              "    }\n",
              "</style>\n",
              "<table border=\"1\" class=\"dataframe\">\n",
              "  <thead>\n",
              "    <tr style=\"text-align: right;\">\n",
              "      <th></th>\n",
              "      <th>game_id</th>\n",
              "      <th>game_event_id</th>\n",
              "      <th>period</th>\n",
              "      <th>minutes_remaining</th>\n",
              "      <th>seconds_remaining</th>\n",
              "      <th>action_type</th>\n",
              "      <th>shot_type</th>\n",
              "      <th>shot_zone_basic</th>\n",
              "      <th>shot_zone_area</th>\n",
              "      <th>shot_zone_range</th>\n",
              "      <th>shot_distance</th>\n",
              "      <th>loc_x</th>\n",
              "      <th>loc_y</th>\n",
              "      <th>shot_made_flag</th>\n",
              "      <th>game_date</th>\n",
              "      <th>htm</th>\n",
              "      <th>vtm</th>\n",
              "      <th>season_type</th>\n",
              "      <th>seconds_remaining_in_the_period</th>\n",
              "      <th>seconds_remaining_all</th>\n",
              "    </tr>\n",
              "  </thead>\n",
              "  <tbody>\n",
              "    <tr>\n",
              "      <th>0</th>\n",
              "      <td>29600027</td>\n",
              "      <td>102</td>\n",
              "      <td>1</td>\n",
              "      <td>0</td>\n",
              "      <td>42</td>\n",
              "      <td>Jump Shot</td>\n",
              "      <td>2PT Field Goal</td>\n",
              "      <td>Mid-Range</td>\n",
              "      <td>Left Side Center(LC)</td>\n",
              "      <td>16-24 ft.</td>\n",
              "      <td>18</td>\n",
              "      <td>-140</td>\n",
              "      <td>116</td>\n",
              "      <td>0</td>\n",
              "      <td>1996-11-03</td>\n",
              "      <td>LAL</td>\n",
              "      <td>MIN</td>\n",
              "      <td>Regular Season</td>\n",
              "      <td>42</td>\n",
              "      <td>2202</td>\n",
              "    </tr>\n",
              "    <tr>\n",
              "      <th>1</th>\n",
              "      <td>29600031</td>\n",
              "      <td>127</td>\n",
              "      <td>2</td>\n",
              "      <td>10</td>\n",
              "      <td>8</td>\n",
              "      <td>Jump Shot</td>\n",
              "      <td>2PT Field Goal</td>\n",
              "      <td>Mid-Range</td>\n",
              "      <td>Left Side Center(LC)</td>\n",
              "      <td>16-24 ft.</td>\n",
              "      <td>16</td>\n",
              "      <td>-131</td>\n",
              "      <td>97</td>\n",
              "      <td>0</td>\n",
              "      <td>1996-11-05</td>\n",
              "      <td>NYK</td>\n",
              "      <td>LAL</td>\n",
              "      <td>Regular Season</td>\n",
              "      <td>608</td>\n",
              "      <td>2048</td>\n",
              "    </tr>\n",
              "    <tr>\n",
              "      <th>2</th>\n",
              "      <td>29600044</td>\n",
              "      <td>124</td>\n",
              "      <td>2</td>\n",
              "      <td>8</td>\n",
              "      <td>37</td>\n",
              "      <td>Jump Shot</td>\n",
              "      <td>3PT Field Goal</td>\n",
              "      <td>Mid-Range</td>\n",
              "      <td>Left Side Center(LC)</td>\n",
              "      <td>16-24 ft.</td>\n",
              "      <td>23</td>\n",
              "      <td>-142</td>\n",
              "      <td>181</td>\n",
              "      <td>1</td>\n",
              "      <td>1996-11-06</td>\n",
              "      <td>CHH</td>\n",
              "      <td>LAL</td>\n",
              "      <td>Regular Season</td>\n",
              "      <td>517</td>\n",
              "      <td>1957</td>\n",
              "    </tr>\n",
              "    <tr>\n",
              "      <th>3</th>\n",
              "      <td>29600044</td>\n",
              "      <td>144</td>\n",
              "      <td>2</td>\n",
              "      <td>6</td>\n",
              "      <td>34</td>\n",
              "      <td>Jump Shot</td>\n",
              "      <td>3PT Field Goal</td>\n",
              "      <td>Restricted Area</td>\n",
              "      <td>Center(C)</td>\n",
              "      <td>Less Than 8 ft.</td>\n",
              "      <td>0</td>\n",
              "      <td>0</td>\n",
              "      <td>0</td>\n",
              "      <td>0</td>\n",
              "      <td>1996-11-06</td>\n",
              "      <td>CHH</td>\n",
              "      <td>LAL</td>\n",
              "      <td>Regular Season</td>\n",
              "      <td>394</td>\n",
              "      <td>1834</td>\n",
              "    </tr>\n",
              "    <tr>\n",
              "      <th>4</th>\n",
              "      <td>29600044</td>\n",
              "      <td>151</td>\n",
              "      <td>2</td>\n",
              "      <td>5</td>\n",
              "      <td>27</td>\n",
              "      <td>Jump Shot</td>\n",
              "      <td>2PT Field Goal</td>\n",
              "      <td>In The Paint (Non-RA)</td>\n",
              "      <td>Center(C)</td>\n",
              "      <td>8-16 ft.</td>\n",
              "      <td>13</td>\n",
              "      <td>-10</td>\n",
              "      <td>138</td>\n",
              "      <td>1</td>\n",
              "      <td>1996-11-06</td>\n",
              "      <td>CHH</td>\n",
              "      <td>LAL</td>\n",
              "      <td>Regular Season</td>\n",
              "      <td>327</td>\n",
              "      <td>1767</td>\n",
              "    </tr>\n",
              "  </tbody>\n",
              "</table>\n",
              "</div>"
            ],
            "text/plain": [
              "    game_id  game_event_id  period  minutes_remaining  seconds_remaining  \\\n",
              "0  29600027            102       1                  0                 42   \n",
              "1  29600031            127       2                 10                  8   \n",
              "2  29600044            124       2                  8                 37   \n",
              "3  29600044            144       2                  6                 34   \n",
              "4  29600044            151       2                  5                 27   \n",
              "\n",
              "  action_type       shot_type        shot_zone_basic        shot_zone_area  \\\n",
              "0   Jump Shot  2PT Field Goal              Mid-Range  Left Side Center(LC)   \n",
              "1   Jump Shot  2PT Field Goal              Mid-Range  Left Side Center(LC)   \n",
              "2   Jump Shot  3PT Field Goal              Mid-Range  Left Side Center(LC)   \n",
              "3   Jump Shot  3PT Field Goal        Restricted Area             Center(C)   \n",
              "4   Jump Shot  2PT Field Goal  In The Paint (Non-RA)             Center(C)   \n",
              "\n",
              "   shot_zone_range  shot_distance  loc_x  loc_y  shot_made_flag   game_date  \\\n",
              "0        16-24 ft.             18   -140    116               0  1996-11-03   \n",
              "1        16-24 ft.             16   -131     97               0  1996-11-05   \n",
              "2        16-24 ft.             23   -142    181               1  1996-11-06   \n",
              "3  Less Than 8 ft.              0      0      0               0  1996-11-06   \n",
              "4         8-16 ft.             13    -10    138               1  1996-11-06   \n",
              "\n",
              "   htm  vtm     season_type  seconds_remaining_in_the_period  \\\n",
              "0  LAL  MIN  Regular Season                               42   \n",
              "1  NYK  LAL  Regular Season                              608   \n",
              "2  CHH  LAL  Regular Season                              517   \n",
              "3  CHH  LAL  Regular Season                              394   \n",
              "4  CHH  LAL  Regular Season                              327   \n",
              "\n",
              "   seconds_remaining_all  \n",
              "0                   2202  \n",
              "1                   2048  \n",
              "2                   1957  \n",
              "3                   1834  \n",
              "4                   1767  "
            ]
          },
          "execution_count": 15,
          "metadata": {},
          "output_type": "execute_result"
        }
      ],
      "source": [
        "train_processed.head()"
      ]
    },
    {
      "cell_type": "code",
      "execution_count": null,
      "id": "T_3_Iz_fxk91",
      "metadata": {
        "colab": {
          "base_uri": "https://localhost:8080/",
          "height": 374
        },
        "id": "T_3_Iz_fxk91",
        "outputId": "abc1ee71-1bce-45e3-ebf8-b79a27530ee5"
      },
      "outputs": [
        {
          "data": {
            "text/html": [
              "<div>\n",
              "<style scoped>\n",
              "    .dataframe tbody tr th:only-of-type {\n",
              "        vertical-align: middle;\n",
              "    }\n",
              "\n",
              "    .dataframe tbody tr th {\n",
              "        vertical-align: top;\n",
              "    }\n",
              "\n",
              "    .dataframe thead th {\n",
              "        text-align: right;\n",
              "    }\n",
              "</style>\n",
              "<table border=\"1\" class=\"dataframe\">\n",
              "  <thead>\n",
              "    <tr style=\"text-align: right;\">\n",
              "      <th></th>\n",
              "      <th>game_id</th>\n",
              "      <th>game_event_id</th>\n",
              "      <th>period</th>\n",
              "      <th>minutes_remaining</th>\n",
              "      <th>seconds_remaining</th>\n",
              "      <th>action_type</th>\n",
              "      <th>shot_type</th>\n",
              "      <th>shot_zone_basic</th>\n",
              "      <th>shot_zone_area</th>\n",
              "      <th>shot_zone_range</th>\n",
              "      <th>shot_distance</th>\n",
              "      <th>loc_x</th>\n",
              "      <th>loc_y</th>\n",
              "      <th>shot_made_flag</th>\n",
              "      <th>game_date</th>\n",
              "      <th>htm</th>\n",
              "      <th>vtm</th>\n",
              "      <th>season_type</th>\n",
              "      <th>seconds_remaining_in_the_period</th>\n",
              "      <th>seconds_remaining_all</th>\n",
              "    </tr>\n",
              "  </thead>\n",
              "  <tbody>\n",
              "    <tr>\n",
              "      <th>28871</th>\n",
              "      <td>21400003</td>\n",
              "      <td>76</td>\n",
              "      <td>1</td>\n",
              "      <td>6</td>\n",
              "      <td>13</td>\n",
              "      <td>Jump Shot</td>\n",
              "      <td>2PT Field Goal</td>\n",
              "      <td>Mid-Range</td>\n",
              "      <td>Center(C)</td>\n",
              "      <td>16-24 ft.</td>\n",
              "      <td>20</td>\n",
              "      <td>-54</td>\n",
              "      <td>201</td>\n",
              "      <td>0</td>\n",
              "      <td>2014-10-28</td>\n",
              "      <td>LAL</td>\n",
              "      <td>HOU</td>\n",
              "      <td>Regular Season</td>\n",
              "      <td>373</td>\n",
              "      <td>2533</td>\n",
              "    </tr>\n",
              "    <tr>\n",
              "      <th>28872</th>\n",
              "      <td>21400003</td>\n",
              "      <td>94</td>\n",
              "      <td>1</td>\n",
              "      <td>4</td>\n",
              "      <td>45</td>\n",
              "      <td>Jump Shot</td>\n",
              "      <td>2PT Field Goal</td>\n",
              "      <td>In The Paint (Non-RA)</td>\n",
              "      <td>Center(C)</td>\n",
              "      <td>Less Than 8 ft.</td>\n",
              "      <td>6</td>\n",
              "      <td>-16</td>\n",
              "      <td>63</td>\n",
              "      <td>1</td>\n",
              "      <td>2014-10-28</td>\n",
              "      <td>LAL</td>\n",
              "      <td>HOU</td>\n",
              "      <td>Regular Season</td>\n",
              "      <td>285</td>\n",
              "      <td>2445</td>\n",
              "    </tr>\n",
              "    <tr>\n",
              "      <th>28873</th>\n",
              "      <td>21400003</td>\n",
              "      <td>413</td>\n",
              "      <td>3</td>\n",
              "      <td>5</td>\n",
              "      <td>52</td>\n",
              "      <td>Turnaround Jump Shot</td>\n",
              "      <td>2PT Field Goal</td>\n",
              "      <td>Mid-Range</td>\n",
              "      <td>Right Side(R)</td>\n",
              "      <td>16-24 ft.</td>\n",
              "      <td>18</td>\n",
              "      <td>166</td>\n",
              "      <td>78</td>\n",
              "      <td>0</td>\n",
              "      <td>2014-10-28</td>\n",
              "      <td>LAL</td>\n",
              "      <td>HOU</td>\n",
              "      <td>Regular Season</td>\n",
              "      <td>352</td>\n",
              "      <td>1072</td>\n",
              "    </tr>\n",
              "    <tr>\n",
              "      <th>28874</th>\n",
              "      <td>21400003</td>\n",
              "      <td>520</td>\n",
              "      <td>4</td>\n",
              "      <td>9</td>\n",
              "      <td>36</td>\n",
              "      <td>Jump Shot</td>\n",
              "      <td>3PT Field Goal</td>\n",
              "      <td>Above the Break 3</td>\n",
              "      <td>Left Side Center(LC)</td>\n",
              "      <td>24+ ft.</td>\n",
              "      <td>27</td>\n",
              "      <td>-138</td>\n",
              "      <td>241</td>\n",
              "      <td>0</td>\n",
              "      <td>2014-10-28</td>\n",
              "      <td>LAL</td>\n",
              "      <td>HOU</td>\n",
              "      <td>Regular Season</td>\n",
              "      <td>576</td>\n",
              "      <td>576</td>\n",
              "    </tr>\n",
              "    <tr>\n",
              "      <th>28875</th>\n",
              "      <td>21400003</td>\n",
              "      <td>553</td>\n",
              "      <td>4</td>\n",
              "      <td>7</td>\n",
              "      <td>16</td>\n",
              "      <td>Jump Shot</td>\n",
              "      <td>2PT Field Goal</td>\n",
              "      <td>Mid-Range</td>\n",
              "      <td>Left Side(L)</td>\n",
              "      <td>16-24 ft.</td>\n",
              "      <td>19</td>\n",
              "      <td>-179</td>\n",
              "      <td>88</td>\n",
              "      <td>0</td>\n",
              "      <td>2014-10-28</td>\n",
              "      <td>LAL</td>\n",
              "      <td>HOU</td>\n",
              "      <td>Regular Season</td>\n",
              "      <td>436</td>\n",
              "      <td>436</td>\n",
              "    </tr>\n",
              "  </tbody>\n",
              "</table>\n",
              "</div>"
            ],
            "text/plain": [
              "        game_id  game_event_id  period  minutes_remaining  seconds_remaining  \\\n",
              "28871  21400003             76       1                  6                 13   \n",
              "28872  21400003             94       1                  4                 45   \n",
              "28873  21400003            413       3                  5                 52   \n",
              "28874  21400003            520       4                  9                 36   \n",
              "28875  21400003            553       4                  7                 16   \n",
              "\n",
              "                action_type       shot_type        shot_zone_basic  \\\n",
              "28871             Jump Shot  2PT Field Goal              Mid-Range   \n",
              "28872             Jump Shot  2PT Field Goal  In The Paint (Non-RA)   \n",
              "28873  Turnaround Jump Shot  2PT Field Goal              Mid-Range   \n",
              "28874             Jump Shot  3PT Field Goal      Above the Break 3   \n",
              "28875             Jump Shot  2PT Field Goal              Mid-Range   \n",
              "\n",
              "             shot_zone_area  shot_zone_range  shot_distance  loc_x  loc_y  \\\n",
              "28871             Center(C)        16-24 ft.             20    -54    201   \n",
              "28872             Center(C)  Less Than 8 ft.              6    -16     63   \n",
              "28873         Right Side(R)        16-24 ft.             18    166     78   \n",
              "28874  Left Side Center(LC)          24+ ft.             27   -138    241   \n",
              "28875          Left Side(L)        16-24 ft.             19   -179     88   \n",
              "\n",
              "       shot_made_flag   game_date  htm  vtm     season_type  \\\n",
              "28871               0  2014-10-28  LAL  HOU  Regular Season   \n",
              "28872               1  2014-10-28  LAL  HOU  Regular Season   \n",
              "28873               0  2014-10-28  LAL  HOU  Regular Season   \n",
              "28874               0  2014-10-28  LAL  HOU  Regular Season   \n",
              "28875               0  2014-10-28  LAL  HOU  Regular Season   \n",
              "\n",
              "       seconds_remaining_in_the_period  seconds_remaining_all  \n",
              "28871                              373                   2533  \n",
              "28872                              285                   2445  \n",
              "28873                              352                   1072  \n",
              "28874                              576                    576  \n",
              "28875                              436                    436  "
            ]
          },
          "execution_count": 16,
          "metadata": {},
          "output_type": "execute_result"
        }
      ],
      "source": [
        "test_processed.head()"
      ]
    },
    {
      "cell_type": "markdown",
      "id": "49630b73",
      "metadata": {
        "deletable": false,
        "editable": false,
        "id": "49630b73",
        "nbgrader": {
          "cell_type": "markdown",
          "checksum": "9e1eb83bad8764d1d2f015f3ecf352a5",
          "grade": false,
          "grade_id": "cell-d4f6cbe6a58338c4",
          "locked": true,
          "schema_version": 3,
          "solution": false,
          "task": false
        }
      },
      "source": [
        "## 1.4 train / test 셋을 features(X)와 target(y)으로 각각 나누는 `divide_data` 함수를 작성하세요.\n",
        "- `pd.DataFrame` 형태의 `X`와 `pd.Series` 형태의 `y`를 반환하세요."
      ]
    },
    {
      "cell_type": "code",
      "execution_count": null,
      "id": "7368b637",
      "metadata": {
        "deletable": false,
        "id": "7368b637",
        "nbgrader": {
          "cell_type": "code",
          "checksum": "5949da018f02fcf11e69a31cc019a174",
          "grade": false,
          "grade_id": "1-4",
          "locked": false,
          "schema_version": 3,
          "solution": true,
          "task": false
        }
      },
      "outputs": [],
      "source": [
        "def divide_data(df):\n",
        "    X = None\n",
        "    y = None\n",
        "\n",
        "    # YOUR CODE HERE\n",
        "    target = 'shot_made_flag'\n",
        "    \n",
        "    X, y = df.drop(columns=target), df[target]\n",
        "    # YOUR CODE ENDS HERE\n",
        "\n",
        "    return X, y"
      ]
    },
    {
      "cell_type": "code",
      "execution_count": null,
      "id": "a9138c66",
      "metadata": {
        "deletable": false,
        "editable": false,
        "id": "a9138c66",
        "nbgrader": {
          "cell_type": "code",
          "checksum": "eacbc5209b67324410e3c6ab8214f793",
          "grade": false,
          "grade_id": "cell-b824b53dc5c901a9",
          "locked": true,
          "schema_version": 3,
          "solution": false,
          "task": false
        }
      },
      "outputs": [],
      "source": [
        "X_train, y_train = divide_data(train_processed)\n",
        "X_test, y_test = divide_data(test_processed)"
      ]
    },
    {
      "cell_type": "code",
      "execution_count": null,
      "id": "a2e3170a",
      "metadata": {
        "deletable": false,
        "editable": false,
        "id": "a2e3170a",
        "nbgrader": {
          "cell_type": "code",
          "checksum": "01d0c142022bb1d645ce00c007953efd",
          "grade": true,
          "grade_id": "1-4_test",
          "locked": true,
          "points": 0.5,
          "schema_version": 3,
          "solution": false,
          "task": false
        },
        "outputId": "573ebd15-ce7f-40e2-be62-bb782cee3312"
      },
      "outputs": [
        {
          "data": {
            "text/plain": [
              "((28871, 19), (1826, 19))"
            ]
          },
          "execution_count": 19,
          "metadata": {},
          "output_type": "execute_result"
        }
      ],
      "source": [
        "X_train.shape, X_test.shape"
      ]
    },
    {
      "cell_type": "markdown",
      "id": "1b9adba0",
      "metadata": {
        "deletable": false,
        "editable": false,
        "id": "1b9adba0",
        "nbgrader": {
          "cell_type": "markdown",
          "checksum": "0ead5c4e73d62e484dc1220d6d8d83be",
          "grade": false,
          "grade_id": "cell-6da594998301164d",
          "locked": true,
          "schema_version": 3,
          "solution": false,
          "task": false
        }
      },
      "source": [
        "# Part 2 - Modeling & Evaluation"
      ]
    },
    {
      "cell_type": "markdown",
      "id": "819f167c",
      "metadata": {
        "deletable": false,
        "editable": false,
        "id": "819f167c",
        "nbgrader": {
          "cell_type": "markdown",
          "checksum": "eb52947182c5d9e7db1f2687e019d8ab",
          "grade": false,
          "grade_id": "cell-f54c8204c1a466c0",
          "locked": true,
          "schema_version": 3,
          "solution": false,
          "task": false
        }
      },
      "source": [
        "## 2.1 RandomForest 또는 XGBoost 모델 학습 파이프라인을 생성하고 학습하는 `fit_trees` 함수를 작성하세요. \n",
        "- Scikit-learn의 `pipeline`을 활용하여 범주형 feature의 encoder, imputer, 모델을 포함하는 하나의 학습 파이프라인을 구축하세요.\n",
        "- 구축한 파이프라인에 대해 `RandomizedSearchCV`를 사용해 CV를 진행하세요.\n",
        "    - 적어도 두 개 이상의 하이퍼파라미터에 대해 탐색을 진행하세요.\n",
        "    - F1 score을 최대화하는 하이퍼파라미터 조합을 선택하세요.\n",
        "- RandomForestClassifier, RandomizedSearchCV 등 랜덤성이 포함되는 방법론에 대해 모두 `random_state=42`로 하세요.\n",
        "- cv는 5 이하, n_iter은 10회 이하로 하세요."
      ]
    },
    {
      "cell_type": "code",
      "execution_count": null,
      "id": "5299948c",
      "metadata": {
        "deletable": false,
        "id": "5299948c",
        "nbgrader": {
          "cell_type": "code",
          "checksum": "b8ef6543f6c03fd2b4644b9cf93ce378",
          "grade": false,
          "grade_id": "2-1",
          "locked": false,
          "schema_version": 3,
          "solution": true,
          "task": false
        }
      },
      "outputs": [],
      "source": [
        "import sklearn\n",
        "from sklearn.pipeline import make_pipeline, Pipeline\n",
        "from sklearn.model_selection import RandomizedSearchCV\n",
        "from sklearn.metrics import f1_score\n",
        "from sklearn.ensemble import RandomForestClassifier\n",
        "from xgboost import XGBClassifier\n",
        "from sklearn.impute import SimpleImputer\n",
        "from category_encoders import OrdinalEncoder\n",
        "\n",
        "### IMPORT ANY\n",
        "# YOUR CODE HERE\n",
        "\n",
        "# YOUR CODE ENDS HERE\n",
        "\n",
        "def fit_trees(X_train, y_train):\n",
        "    pipe = None    # pipe = make_pipeline(...)\n",
        "    clf = None     # clf = RandomizedSearchCV(pipe, ...)\n",
        "\n",
        "    # YOUR CODE HERE\n",
        "    pipe = make_pipeline(OrdinalEncoder(),\n",
        "                         XGBClassifier(objective=\"binary:logistic\", eval_metric=\"error\", random_state=42, n_jobs=-1))\n",
        "    \n",
        "    params = {'xgbclassifier__reg_lambda': [50, 100, 150, 200],\n",
        "          'xgbclassifier__reg_alpha': [0.1, 0.2, 0.3, 0.4],\n",
        "          'xgbclassifier__colsample_bytree' : [0.3, 0.4, 0.5, 0.6, 0.7],\n",
        "          'xgbclassifier__n_estimators': range(2500, 3000, 100),\n",
        "          'xgbclassifier__max_depth': [3, 4, 5, 10 ,20],\n",
        "          'xgbclassifier__learning_rate': [0.01, 0.02, 0.03, 0.04, 0.05],\n",
        "          'xgbclassifier__min_child_weight': range(10, 21, 1),\n",
        "          # 'xgbclassifier__scale_pos_weight' : [1,3,5]\n",
        "         }\n",
        "\n",
        "    clf = RandomizedSearchCV(pipe, param_distributions=params, scoring='f1', n_iter=10, cv=3, verbose=False)\n",
        "\n",
        "    clf.fit(X_train, y_train)\n",
        "    # YOUR CODE ENDS HERE\n",
        "\n",
        "    return clf"
      ]
    },
    {
      "cell_type": "code",
      "execution_count": null,
      "id": "d2a7fd98",
      "metadata": {
        "deletable": false,
        "editable": false,
        "id": "d2a7fd98",
        "nbgrader": {
          "cell_type": "code",
          "checksum": "fc20e734365d6cf8b877cc0900f3f27a",
          "grade": false,
          "grade_id": "cell-b9ee57acaea76149",
          "locked": true,
          "schema_version": 3,
          "solution": false,
          "task": false
        }
      },
      "outputs": [],
      "source": [
        "clf = fit_trees(X_train, y_train)"
      ]
    },
    {
      "cell_type": "code",
      "execution_count": null,
      "id": "07f646a3",
      "metadata": {
        "deletable": false,
        "editable": false,
        "id": "07f646a3",
        "nbgrader": {
          "cell_type": "code",
          "checksum": "4b77588efbab2fb48db9038267fbb515",
          "grade": true,
          "grade_id": "2-1_test",
          "locked": true,
          "points": 1,
          "schema_version": 3,
          "solution": false,
          "task": false
        },
        "outputId": "4ce7e715-153f-469a-81ef-dcf287154c9f"
      },
      "outputs": [
        {
          "name": "stdout",
          "output_type": "stream",
          "text": [
            "Best CV F1 0.5760108934054778\n",
            "Best CV params {'xgbclassifier__reg_lambda': 100, 'xgbclassifier__reg_alpha': 0.3, 'xgbclassifier__n_estimators': 2900, 'xgbclassifier__min_child_weight': 10, 'xgbclassifier__max_depth': 4, 'xgbclassifier__learning_rate': 0.03, 'xgbclassifier__colsample_bytree': 0.6}\n"
          ]
        }
      ],
      "source": [
        "print(\"Best CV F1\", clf.best_score_)\n",
        "print(\"Best CV params\", clf.best_params_)"
      ]
    },
    {
      "cell_type": "markdown",
      "id": "762689a6",
      "metadata": {
        "deletable": false,
        "editable": false,
        "id": "762689a6",
        "nbgrader": {
          "cell_type": "markdown",
          "checksum": "e102401d7da7893ff7c2f40ddcb42e13",
          "grade": false,
          "grade_id": "cell-99dd572207e5cdf5",
          "locked": true,
          "schema_version": 3,
          "solution": false,
          "task": false
        }
      },
      "source": [
        "## 2.2 학습된 모델로부터 feature importance를 계산하는 `get_feature_importances` 함수를 작성하세요. \n",
        "- feature_importances 변수에 feature_importances_ 값을 할당하면 됩니다."
      ]
    },
    {
      "cell_type": "code",
      "execution_count": null,
      "id": "c2bba75f",
      "metadata": {
        "deletable": false,
        "id": "c2bba75f",
        "nbgrader": {
          "cell_type": "code",
          "checksum": "42bcf5984aaf1a4a6ead35fce9de6adc",
          "grade": false,
          "grade_id": "2-2",
          "locked": false,
          "schema_version": 3,
          "solution": true,
          "task": false
        }
      },
      "outputs": [],
      "source": [
        "import numpy as np\n",
        "\n",
        "\n",
        "def get_feature_importances(pipe, feature_names):\n",
        "    feature_importances = np.zeros(len(feature_names))\n",
        "\n",
        "    # YOUR CODE HERE\n",
        "    feature_importances = pipe.named_steps['xgbclassifier'].feature_importances_\n",
        "    \n",
        "    # YOUR CODE ENDS HERE\n",
        "\n",
        "    return sorted(\n",
        "        list(zip(feature_names, feature_importances)), key=lambda x: x[1], reverse=True\n",
        "    )"
      ]
    },
    {
      "cell_type": "code",
      "execution_count": null,
      "id": "804f1529",
      "metadata": {
        "deletable": false,
        "editable": false,
        "id": "804f1529",
        "nbgrader": {
          "cell_type": "code",
          "checksum": "aabd9dbf459117e3674473abdd3b4188",
          "grade": false,
          "grade_id": "cell-8206edc56bebb143",
          "locked": true,
          "schema_version": 3,
          "solution": false,
          "task": false
        }
      },
      "outputs": [],
      "source": [
        "feature_importances = get_feature_importances(\n",
        "    clf.best_estimator_, list(X_train.columns)\n",
        ")"
      ]
    },
    {
      "cell_type": "code",
      "execution_count": null,
      "id": "af663180",
      "metadata": {
        "deletable": false,
        "editable": false,
        "id": "af663180",
        "nbgrader": {
          "cell_type": "code",
          "checksum": "e33f6bbde11d0165de4093601eef35de",
          "grade": true,
          "grade_id": "2-2_test",
          "locked": true,
          "points": 0.5,
          "schema_version": 3,
          "solution": false,
          "task": false
        },
        "outputId": "46419299-9b84-4d69-b5c0-93983011512d"
      },
      "outputs": [
        {
          "name": "stdout",
          "output_type": "stream",
          "text": [
            "action_type: 0.3971\n",
            "shot_zone_basic: 0.1238\n",
            "shot_distance: 0.0793\n",
            "shot_zone_area: 0.0393\n",
            "shot_type: 0.0368\n",
            "htm: 0.0349\n",
            "loc_y: 0.0294\n",
            "seconds_remaining_in_the_period: 0.0275\n",
            "game_date: 0.0248\n",
            "vtm: 0.0248\n",
            "shot_zone_range: 0.0227\n",
            "loc_x: 0.0220\n",
            "minutes_remaining: 0.0218\n",
            "season_type: 0.0212\n",
            "seconds_remaining_all: 0.0203\n",
            "game_id: 0.0199\n",
            "seconds_remaining: 0.0192\n",
            "game_event_id: 0.0180\n",
            "period: 0.0174\n"
          ]
        }
      ],
      "source": [
        "for name, importance in feature_importances:\n",
        "    print(f\"{name}: {importance:.4f}\")"
      ]
    },
    {
      "cell_type": "markdown",
      "id": "93b4000a",
      "metadata": {
        "deletable": false,
        "editable": false,
        "id": "93b4000a",
        "nbgrader": {
          "cell_type": "markdown",
          "checksum": "09589ec707b2a88978794c903dc851eb",
          "grade": false,
          "grade_id": "cell-e0056f0b70e3fc27",
          "locked": true,
          "schema_version": 3,
          "solution": false,
          "task": false
        }
      },
      "source": [
        "## 2.3 본인이 만든 모델의 Test 셋에서의 성능을 확인해 보세요.\n",
        "- ### test_accuracy > 0.6, test_f1 > 0.5를 만족하면 기본 성능점수를 얻습니다.\n",
        "- ###  (도전과제) test_accuracy > 0.68, test_f1 > 0.54을 만족하면 성능점수 만점을 얻습니다.\n",
        "  - 도전과제까지 수행해야 스챌 3점을 얻습니다. \n",
        "  - 1.3으로 돌아가 다양한 특성 조합을 시도해 보세요. \n",
        "    - 그리고 2.2로 돌아와 피쳐 중요도를 계산해 보세요.\n",
        "    - 어떤 피쳐의 중요도가 가장 높나요?\n",
        "    - 중요도가 낮은 피쳐라도 있는 게 좋을까요?\n",
        "  - 2.1로 돌아가 SearchCV에서 다양한 하이퍼파라미터 옵션 조합을 선택해 보세요.\n",
        "    - 본인이 선택한 모델에서, 각 하이퍼파라미터가 어떤 의미를 가지나요?\n",
        "    - SearchCV가 더 다양한 하이퍼파라미터 조합을 시도하도록 하기 위해 SearchCV의 어떤 옵션을 조정해야 할까요?"
      ]
    },
    {
      "cell_type": "code",
      "execution_count": null,
      "id": "55d91bc7",
      "metadata": {
        "deletable": false,
        "editable": false,
        "id": "55d91bc7",
        "nbgrader": {
          "cell_type": "code",
          "checksum": "2ee19dd695e141b33511ac928a8fbe2e",
          "grade": false,
          "grade_id": "2-3",
          "locked": true,
          "schema_version": 3,
          "solution": false,
          "task": false
        }
      },
      "outputs": [],
      "source": [
        "def calculate_score(pipe, X_test, y_test):\n",
        "    test_accuracy = pipe.score(X_test, y_test)\n",
        "    test_f1 = f1_score(y_test, pipe.predict(X_test))\n",
        "    return test_accuracy, test_f1"
      ]
    },
    {
      "cell_type": "code",
      "execution_count": null,
      "id": "2a19e1f1",
      "metadata": {
        "deletable": false,
        "editable": false,
        "id": "2a19e1f1",
        "nbgrader": {
          "cell_type": "code",
          "checksum": "a5a77f4bcf3798afe8fd44b76676945b",
          "grade": false,
          "grade_id": "2-3_test_code",
          "locked": true,
          "schema_version": 3,
          "solution": false,
          "task": false
        }
      },
      "outputs": [],
      "source": [
        "test_accuracy, test_f1 = calculate_score(clf.best_estimator_, X_test, y_test)"
      ]
    },
    {
      "cell_type": "code",
      "execution_count": null,
      "id": "9630b414",
      "metadata": {
        "deletable": false,
        "editable": false,
        "id": "9630b414",
        "nbgrader": {
          "cell_type": "code",
          "checksum": "603081d1e133472a6e4ca2c61c55b8cd",
          "grade": true,
          "grade_id": "2-3_test",
          "locked": true,
          "points": 1,
          "schema_version": 3,
          "solution": false,
          "task": false
        },
        "outputId": "c91acea2-5711-44e2-e082-27c65993cbea"
      },
      "outputs": [
        {
          "name": "stdout",
          "output_type": "stream",
          "text": [
            "test accuracy:  0.6818181818181818\n",
            "test F1: 0.5457388584831899\n"
          ]
        }
      ],
      "source": [
        "print(\"test accuracy: \", test_accuracy)\n",
        "print(\"test F1:\", test_f1)"
      ]
    },
    {
      "cell_type": "code",
      "execution_count": null,
      "id": "b68ee47c",
      "metadata": {
        "deletable": false,
        "editable": false,
        "id": "b68ee47c",
        "nbgrader": {
          "cell_type": "code",
          "checksum": "f616c48705e48860cdc87c0be104fb28",
          "grade": true,
          "grade_id": "challenge_2-3_test",
          "locked": true,
          "points": 1,
          "schema_version": 3,
          "solution": false,
          "task": false
        },
        "outputId": "29602df5-7db2-40b4-fa7b-d5c025db9aa3"
      },
      "outputs": [
        {
          "name": "stdout",
          "output_type": "stream",
          "text": [
            "test accuracy > 0.68?:  True\n",
            "test F1 > 0.54?: True\n"
          ]
        }
      ],
      "source": [
        "print(\"test accuracy > 0.68?: \", test_accuracy > 0.68)\n",
        "print(\"test F1 > 0.54?:\", test_f1 > 0.54)\n"
      ]
    },
    {
      "cell_type": "markdown",
      "id": "ff76958a",
      "metadata": {
        "id": "ff76958a"
      },
      "source": [
        "---"
      ]
    },
    {
      "cell_type": "markdown",
      "id": "27548ef6",
      "metadata": {
        "id": "27548ef6"
      },
      "source": [
        "# 수고하셨습니다!"
      ]
    }
  ],
  "metadata": {
    "colab": {
      "provenance": [],
      "include_colab_link": true
    },
    "kernelspec": {
      "display_name": "Python 3 (ipykernel)",
      "language": "python",
      "name": "python3"
    },
    "language_info": {
      "codemirror_mode": {
        "name": "ipython",
        "version": 3
      },
      "file_extension": ".py",
      "mimetype": "text/x-python",
      "name": "python",
      "nbconvert_exporter": "python",
      "pygments_lexer": "ipython3",
      "version": "3.9.12"
    },
    "toc": {
      "base_numbering": 1,
      "nav_menu": {},
      "number_sections": true,
      "sideBar": true,
      "skip_h1_title": false,
      "title_cell": "Table of Contents",
      "title_sidebar": "Contents",
      "toc_cell": false,
      "toc_position": {},
      "toc_section_display": true,
      "toc_window_display": false
    },
    "varInspector": {
      "cols": {
        "lenName": 16,
        "lenType": 16,
        "lenVar": 40
      },
      "kernels_config": {
        "python": {
          "delete_cmd_postfix": "",
          "delete_cmd_prefix": "del ",
          "library": "var_list.py",
          "varRefreshCmd": "print(var_dic_list())"
        },
        "r": {
          "delete_cmd_postfix": ") ",
          "delete_cmd_prefix": "rm(",
          "library": "var_list.r",
          "varRefreshCmd": "cat(var_dic_list()) "
        }
      },
      "types_to_exclude": [
        "module",
        "function",
        "builtin_function_or_method",
        "instance",
        "_Feature"
      ],
      "window_display": false
    }
  },
  "nbformat": 4,
  "nbformat_minor": 5
}